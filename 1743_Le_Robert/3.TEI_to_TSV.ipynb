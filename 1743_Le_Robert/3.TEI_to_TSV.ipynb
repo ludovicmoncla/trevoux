{
 "cells": [
  {
   "cell_type": "markdown",
   "metadata": {},
   "source": [
    "# Convert TEI into TSV\n"
   ]
  },
  {
   "cell_type": "code",
   "execution_count": 14,
   "metadata": {},
   "outputs": [],
   "source": [
    "import re\n",
    "import os\n",
    "from lxml import etree\n",
    "import pandas as pd"
   ]
  },
  {
   "cell_type": "markdown",
   "metadata": {},
   "source": []
  },
  {
   "cell_type": "code",
   "execution_count": null,
   "metadata": {},
   "outputs": [
    {
     "name": "stdout",
     "output_type": "stream",
     "text": [
      "TR1.tei\n",
      "Forme : non trouvée\n",
      "Forme : non trouvée\n",
      "Forme : non trouvée\n",
      "Forme : non trouvée\n",
      "TR2.tei\n",
      "TR3.tei\n",
      "Forme : non trouvée\n",
      "TR4.tei\n",
      "Forme : non trouvée\n",
      "Forme : non trouvée\n",
      "Forme : non trouvée\n",
      "TR5.tei\n",
      "TR6.tei\n"
     ]
    },
    {
     "data": {
      "text/html": [
       "<div>\n",
       "<style scoped>\n",
       "    .dataframe tbody tr th:only-of-type {\n",
       "        vertical-align: middle;\n",
       "    }\n",
       "\n",
       "    .dataframe tbody tr th {\n",
       "        vertical-align: top;\n",
       "    }\n",
       "\n",
       "    .dataframe thead th {\n",
       "        text-align: right;\n",
       "    }\n",
       "</style>\n",
       "<table border=\"1\" class=\"dataframe\">\n",
       "  <thead>\n",
       "    <tr style=\"text-align: right;\">\n",
       "      <th></th>\n",
       "      <th>volume</th>\n",
       "      <th>entry</th>\n",
       "      <th>entry_lemma</th>\n",
       "      <th>subordinate</th>\n",
       "      <th>subordinate_lemma</th>\n",
       "      <th>subordinate_domain</th>\n",
       "    </tr>\n",
       "  </thead>\n",
       "  <tbody>\n",
       "    <tr>\n",
       "      <th>0</th>\n",
       "      <td>1</td>\n",
       "      <td>250000010</td>\n",
       "      <td>A</td>\n",
       "      <td>1</td>\n",
       "      <td>None</td>\n",
       "      <td>None</td>\n",
       "    </tr>\n",
       "    <tr>\n",
       "      <th>1</th>\n",
       "      <td>1</td>\n",
       "      <td>250000010</td>\n",
       "      <td>A</td>\n",
       "      <td>2</td>\n",
       "      <td>None</td>\n",
       "      <td>None</td>\n",
       "    </tr>\n",
       "    <tr>\n",
       "      <th>2</th>\n",
       "      <td>1</td>\n",
       "      <td>250000010</td>\n",
       "      <td>A</td>\n",
       "      <td>3</td>\n",
       "      <td>None</td>\n",
       "      <td>None</td>\n",
       "    </tr>\n",
       "    <tr>\n",
       "      <th>3</th>\n",
       "      <td>1</td>\n",
       "      <td>250000010</td>\n",
       "      <td>A</td>\n",
       "      <td>4</td>\n",
       "      <td>None</td>\n",
       "      <td>None</td>\n",
       "    </tr>\n",
       "    <tr>\n",
       "      <th>4</th>\n",
       "      <td>1</td>\n",
       "      <td>250000010</td>\n",
       "      <td>A</td>\n",
       "      <td>5</td>\n",
       "      <td>None</td>\n",
       "      <td>None</td>\n",
       "    </tr>\n",
       "  </tbody>\n",
       "</table>\n",
       "</div>"
      ],
      "text/plain": [
       "  volume      entry entry_lemma  subordinate subordinate_lemma  \\\n",
       "0      1  250000010           A            1              None   \n",
       "1      1  250000010           A            2              None   \n",
       "2      1  250000010           A            3              None   \n",
       "3      1  250000010           A            4              None   \n",
       "4      1  250000010           A            5              None   \n",
       "\n",
       "  subordinate_domain  \n",
       "0               None  \n",
       "1               None  \n",
       "2               None  \n",
       "3               None  \n",
       "4               None  "
      ]
     },
     "execution_count": 15,
     "metadata": {},
     "output_type": "execute_result"
    }
   ],
   "source": [
    "inputpath = os.path.join('..', 'data', '1743_LeRobert', 'tei')\n",
    "\n",
    "data = []\n",
    "\n",
    "for filename in sorted(os.listdir(inputpath)):\n",
    "    try:\n",
    "        parser = etree.XMLParser(collect_ids=False, encoding='utf-8') \n",
    "        root = etree.parse(os.path.join(inputpath, filename), parser=parser).getroot()    \n",
    "        #print(root.nsmap)\n",
    "        print(filename)\n",
    "        volume = filename[2:3]\n",
    "\n",
    "        for entry in root.findall('.//entry', namespaces=root.nsmap):\n",
    "            entry_id = entry.get('id')\n",
    "            form = entry.find('.//form[@type=\"lemma\"]/orth', namespaces=root.nsmap)\n",
    "            if form is not None:\n",
    "                entry_lemma = form.text\n",
    "            else:\n",
    "                print(\"Forme : non trouvée\")\n",
    "                entry_lemma = None\n",
    "\n",
    "            for i, subordinate in enumerate(entry.findall('.//sense', namespaces=root.nsmap)):\n",
    "                \n",
    "                form = subordinate.find('.//form/orth', namespaces=root.nsmap)\n",
    "                if form is not None:\n",
    "                    subordinate_lemma = form.text\n",
    "                else:\n",
    "                    subordinate_lemma = None\n",
    "\n",
    "                usg = subordinate.find('.//usg[@type=\"domain\"]', namespaces=root.nsmap)\n",
    "                if usg is not None:\n",
    "                    subordinate_domain = usg.text\n",
    "                else:\n",
    "                    subordinate_domain = None\n",
    "\n",
    "                #TODO ajout du texte de la définition\n",
    "                #....\n",
    "\n",
    "                row = [volume, entry_id, entry_lemma, i+1, subordinate_lemma, subordinate_domain]\n",
    "                #volume | entry | entry_lemma | subordinate | subordinate_lemma | subordinate_domain | content\n",
    "                data.append(row)\n",
    "                \n",
    "                #print(row)\n",
    "        \n",
    "    except etree.XMLSyntaxError as e:\n",
    "        print(f\"Erreur de syntaxe XML : {e}\")\n",
    "\n",
    "\n",
    "\n",
    "# convert data into a dataframe\n",
    "\n",
    "df = pd.DataFrame(data, columns=['volume', 'entry', 'entry_lemma', 'subordinate', 'subordinate_lemma', 'subordinate_domain'])\n",
    "df.head()\n"
   ]
  },
  {
   "cell_type": "code",
   "execution_count": 22,
   "metadata": {},
   "outputs": [],
   "source": [
    "df.to_csv(os.path.join('..', 'data', '1743_LeRobert', 'Trevoux1743.tsv'), sep='\\t', index=False, encoding='utf-8')"
   ]
  },
  {
   "cell_type": "code",
   "execution_count": 17,
   "metadata": {},
   "outputs": [
    {
     "data": {
      "text/plain": [
       "(135004, 6)"
      ]
     },
     "execution_count": 17,
     "metadata": {},
     "output_type": "execute_result"
    }
   ],
   "source": [
    "df.shape"
   ]
  },
  {
   "cell_type": "code",
   "execution_count": null,
   "metadata": {},
   "outputs": [],
   "source": []
  }
 ],
 "metadata": {
  "kernelspec": {
   "display_name": "stage24-classification-py39",
   "language": "python",
   "name": "python3"
  },
  "language_info": {
   "codemirror_mode": {
    "name": "ipython",
    "version": 3
   },
   "file_extension": ".py",
   "mimetype": "text/x-python",
   "name": "python",
   "nbconvert_exporter": "python",
   "pygments_lexer": "ipython3",
   "version": "3.9.18"
  },
  "orig_nbformat": 4
 },
 "nbformat": 4,
 "nbformat_minor": 2
}
